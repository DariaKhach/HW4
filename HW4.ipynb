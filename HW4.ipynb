{
 "cells": [
  {
   "cell_type": "code",
   "execution_count": 141,
   "metadata": {},
   "outputs": [],
   "source": [
    "documents = [\n",
    "{'type': 'passport', 'number': '2207 876234', 'name': 'Василий Гупкин'},\n",
    "{'type': 'invoice', 'number': '11-2', 'name': 'Геннадий Покемонов'},\n",
    "{'type': 'insurance', 'number': '10006', 'name': 'Аристарх Павлов'}\n",
    "]\n",
    "directories = {\n",
    "'1': ['2207 876234', '11-2'],\n",
    "'2': ['10006'],\n",
    "'3': []\n",
    "}"
   ]
  },
  {
   "cell_type": "code",
   "execution_count": 64,
   "metadata": {},
   "outputs": [],
   "source": [
    "def doc_owner():\n",
    "    user_input = input('Введите номер документа:')\n",
    "    for doc in documents:\n",
    "        if doc['number'] == user_input: \n",
    "            return doc['name']\n",
    "    return 'Документ не найден в базе'"
   ]
  },
  {
   "cell_type": "code",
   "execution_count": 79,
   "metadata": {},
   "outputs": [],
   "source": [
    "def shelf(user_input): \n",
    "    for key, value in directories.items():\n",
    "        if user_input in value: \n",
    "            return key\n",
    "    return 'Документ не найден в базе'"
   ]
  },
  {
   "cell_type": "code",
   "execution_count": 86,
   "metadata": {},
   "outputs": [],
   "source": [
    "def all_inf():\n",
    "    for doc in documents:\n",
    "        print('№:' , doc['number'], ', тип:', doc['type'], ', владелец:' , doc['name'], ', полка хранения:', shelf(doc['number']))\n",
    "    "
   ]
  },
  {
   "cell_type": "code",
   "execution_count": 145,
   "metadata": {},
   "outputs": [],
   "source": [
    "def new_shelf():\n",
    "    user_input = input('Введите номер полки:')\n",
    "    if user_input in directories.keys():\n",
    "        return 'Такая полка уже существует. Текущий перечень полок:', list(directories.keys())\n",
    "    else:\n",
    "        directories[user_input] = [] \n",
    "        return 'Полка добавлена. Текущий перечень полок:', list(directories.keys())\n"
   ]
  },
  {
   "cell_type": "code",
   "execution_count": 156,
   "metadata": {},
   "outputs": [],
   "source": [
    "def del_shelf():\n",
    "    user_input = input('Введите номер полки:') \n",
    "    if user_input in directories.keys():\n",
    "        if len(directories[user_input]) == 0:\n",
    "            del(directories[user_input])\n",
    "            return 'Полка удалена. Текущий перечень полок:', list(directories.keys())\n",
    "        else:\n",
    "            return 'На полке есть документа, удалите их перед удалением полки. Текущий перечень полок:', list(directories.keys())\n",
    "    else:\n",
    "        return 'Такой полки нет', list(directories.keys())\n",
    "    "
   ]
  },
  {
   "cell_type": "code",
   "execution_count": null,
   "metadata": {
    "scrolled": true
   },
   "outputs": [
    {
     "name": "stdout",
     "output_type": "stream",
     "text": [
      "Введите команду:ds\n",
      "Введите номер полки:1\n",
      "('На полке есть документа, удалите их перед удалением полки. Текущий перечень полок:', ['1', '2', '3', '9', '7'])\n",
      "Введите команду:ds\n",
      "Введите номер полки:9\n",
      "('Полка удалена. Текущий перечень полок:', ['1', '2', '3', '7'])\n",
      "Введите команду:ds\n",
      "Введите номер полки:12\n",
      "('Такой полки нет', ['1', '2', '3', '7'])\n"
     ]
    }
   ],
   "source": [
    "while True:\n",
    "    user_input = input ('Введите команду:')\n",
    "    if  user_input == 'p':\n",
    "        print(doc_owner())\n",
    "    elif user_input == 's':\n",
    "        user_input = input('Введите номер документа:')\n",
    "        print(shelf(user_input))\n",
    "    elif user_input == 'l':\n",
    "        all_inf()\n",
    "    elif user_input == 'as':\n",
    "        print(new_shelf())\n",
    "    elif user_input == 'ds':\n",
    "        print(del_shelf())\n",
    "    elif user_input == '0':\n",
    "        break\n",
    "    else:\n",
    "        print('Такой команды нет')"
   ]
  },
  {
   "cell_type": "code",
   "execution_count": 138,
   "metadata": {},
   "outputs": [
    {
     "name": "stdout",
     "output_type": "stream",
     "text": [
      "Premio\n"
     ]
    }
   ],
   "source": [
    "dict_sample = {\n",
    "  \"Company\": \"Toyota\", \n",
    "  \"model\": \"Premio\", \n",
    "  \"year\": 2012 \n",
    "} \n",
    "x = dict_sample[\"model\"] \n",
    "print(x)"
   ]
  }
 ],
 "metadata": {
  "kernelspec": {
   "display_name": "Python 3",
   "language": "python",
   "name": "python3"
  },
  "language_info": {
   "codemirror_mode": {
    "name": "ipython",
    "version": 3
   },
   "file_extension": ".py",
   "mimetype": "text/x-python",
   "name": "python",
   "nbconvert_exporter": "python",
   "pygments_lexer": "ipython3",
   "version": "3.8.5"
  }
 },
 "nbformat": 4,
 "nbformat_minor": 4
}
